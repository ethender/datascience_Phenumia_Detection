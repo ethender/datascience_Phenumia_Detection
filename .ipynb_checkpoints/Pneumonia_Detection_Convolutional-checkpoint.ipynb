{
 "cells": [
  {
   "cell_type": "code",
   "execution_count": 1,
   "metadata": {},
   "outputs": [
    {
     "name": "stderr",
     "output_type": "stream",
     "text": [
      "Using TensorFlow backend.\n"
     ]
    }
   ],
   "source": [
    "from keras.preprocessing.image import ImageDataGenerator\n",
    "import tensorflow as tf"
   ]
  },
  {
   "cell_type": "code",
   "execution_count": 2,
   "metadata": {},
   "outputs": [
    {
     "data": {
      "text/plain": [
       "'2.2.0'"
      ]
     },
     "execution_count": 2,
     "metadata": {},
     "output_type": "execute_result"
    }
   ],
   "source": [
    "tf.__version__"
   ]
  },
  {
   "cell_type": "code",
   "execution_count": 3,
   "metadata": {},
   "outputs": [
    {
     "name": "stdout",
     "output_type": "stream",
     "text": [
      "Found 5216 images belonging to 2 classes.\n"
     ]
    }
   ],
   "source": [
    "train_datagen = ImageDataGenerator(rescale=1./255,\n",
    "                                  shear_range=0.2,\n",
    "                                  zoom_range=0.2,\n",
    "                                  horizontal_flip=True)\n",
    "training_set = train_datagen.flow_from_directory('dataset/train',\n",
    "                                                target_size=(64,64),\n",
    "                                                batch_size=32,\n",
    "                                                class_mode='binary')"
   ]
  },
  {
   "cell_type": "code",
   "execution_count": 4,
   "metadata": {},
   "outputs": [
    {
     "name": "stdout",
     "output_type": "stream",
     "text": [
      "Found 16 images belonging to 2 classes.\n"
     ]
    }
   ],
   "source": [
    "validation_datagen = ImageDataGenerator(rescale=1./255)\n",
    "validation_set = validation_datagen.flow_from_directory('dataset/val',\n",
    "                                                       target_size=(64,64),\n",
    "                                                       batch_size=32,\n",
    "                                                       class_mode='binary')"
   ]
  },
  {
   "cell_type": "code",
   "execution_count": 21,
   "metadata": {},
   "outputs": [],
   "source": [
    "cnn = tf.keras.models.Sequential()"
   ]
  },
  {
   "cell_type": "code",
   "execution_count": 22,
   "metadata": {},
   "outputs": [],
   "source": [
    "cnn.add(tf.keras.layers.Conv2D(filters=32,kernel_size=3,activation='relu',\n",
    "                              input_shape=[64,64,3]))\n",
    "cnn.add(tf.keras.layers.MaxPool2D(pool_size=2,strides=2))"
   ]
  },
  {
   "cell_type": "code",
   "execution_count": 23,
   "metadata": {},
   "outputs": [],
   "source": [
    "cnn.add(tf.keras.layers.Conv2D(filters=32,\n",
    "                              kernel_size=3,activation='relu'))\n",
    "cnn.add(tf.keras.layers.MaxPool2D(pool_size=2,strides=2))"
   ]
  },
  {
   "cell_type": "code",
   "execution_count": 24,
   "metadata": {},
   "outputs": [],
   "source": [
    "cnn.add(tf.keras.layers.Flatten())\n",
    "cnn.add(tf.keras.layers.Dense(units=128,activation='relu'))\n",
    "cnn.add(tf.keras.layers.Dense(units=1,activation='sigmoid'))"
   ]
  },
  {
   "cell_type": "code",
   "execution_count": 25,
   "metadata": {},
   "outputs": [],
   "source": [
    "cnn.compile(optimizer='adam',loss='binary_crossentropy',metrics=['accuracy'])"
   ]
  },
  {
   "cell_type": "code",
   "execution_count": 27,
   "metadata": {},
   "outputs": [
    {
     "name": "stdout",
     "output_type": "stream",
     "text": [
      "Epoch 1/25\n",
      "163/163 [==============================] - 94s 579ms/step - loss: 0.3205 - accuracy: 0.8643 - val_loss: 0.5552 - val_accuracy: 0.7500\n",
      "Epoch 2/25\n",
      "163/163 [==============================] - 95s 581ms/step - loss: 0.2397 - accuracy: 0.9009 - val_loss: 0.4938 - val_accuracy: 0.7500\n",
      "Epoch 3/25\n",
      "163/163 [==============================] - 96s 587ms/step - loss: 0.2095 - accuracy: 0.9160 - val_loss: 0.3147 - val_accuracy: 0.8750\n",
      "Epoch 4/25\n",
      "163/163 [==============================] - 94s 576ms/step - loss: 0.1826 - accuracy: 0.9304 - val_loss: 0.6221 - val_accuracy: 0.6250\n",
      "Epoch 5/25\n",
      "163/163 [==============================] - 94s 579ms/step - loss: 0.1702 - accuracy: 0.9335 - val_loss: 0.3198 - val_accuracy: 0.8125\n",
      "Epoch 6/25\n",
      "163/163 [==============================] - 95s 581ms/step - loss: 0.1794 - accuracy: 0.9287 - val_loss: 0.7845 - val_accuracy: 0.6875\n",
      "Epoch 7/25\n",
      "163/163 [==============================] - 94s 579ms/step - loss: 0.1536 - accuracy: 0.9413 - val_loss: 0.3938 - val_accuracy: 0.8125\n",
      "Epoch 8/25\n",
      "163/163 [==============================] - 94s 579ms/step - loss: 0.1536 - accuracy: 0.9417 - val_loss: 1.1888 - val_accuracy: 0.6250\n",
      "Epoch 9/25\n",
      "163/163 [==============================] - 96s 586ms/step - loss: 0.1434 - accuracy: 0.9480 - val_loss: 0.5109 - val_accuracy: 0.6875\n",
      "Epoch 10/25\n",
      "163/163 [==============================] - 94s 577ms/step - loss: 0.1342 - accuracy: 0.9471 - val_loss: 0.3662 - val_accuracy: 0.8125\n",
      "Epoch 11/25\n",
      "163/163 [==============================] - 93s 573ms/step - loss: 0.1465 - accuracy: 0.9413 - val_loss: 0.4343 - val_accuracy: 0.8125\n",
      "Epoch 12/25\n",
      "163/163 [==============================] - 94s 579ms/step - loss: 0.1326 - accuracy: 0.9511 - val_loss: 0.7868 - val_accuracy: 0.6875\n",
      "Epoch 13/25\n",
      "163/163 [==============================] - 95s 580ms/step - loss: 0.1313 - accuracy: 0.9519 - val_loss: 0.3765 - val_accuracy: 0.8750\n",
      "Epoch 14/25\n",
      "163/163 [==============================] - 94s 576ms/step - loss: 0.1348 - accuracy: 0.9488 - val_loss: 0.3298 - val_accuracy: 0.8125\n",
      "Epoch 15/25\n",
      "163/163 [==============================] - 94s 578ms/step - loss: 0.1242 - accuracy: 0.9536 - val_loss: 1.1396 - val_accuracy: 0.6250\n",
      "Epoch 16/25\n",
      "163/163 [==============================] - 99s 605ms/step - loss: 0.1415 - accuracy: 0.9454 - val_loss: 0.7849 - val_accuracy: 0.6875\n",
      "Epoch 17/25\n",
      "163/163 [==============================] - 101s 618ms/step - loss: 0.1183 - accuracy: 0.9572 - val_loss: 0.8143 - val_accuracy: 0.6250\n",
      "Epoch 18/25\n",
      "163/163 [==============================] - 99s 605ms/step - loss: 0.1134 - accuracy: 0.9548 - val_loss: 0.5031 - val_accuracy: 0.7500\n",
      "Epoch 19/25\n",
      "163/163 [==============================] - 96s 589ms/step - loss: 0.1187 - accuracy: 0.9542 - val_loss: 0.5122 - val_accuracy: 0.6875\n",
      "Epoch 20/25\n",
      "163/163 [==============================] - 96s 588ms/step - loss: 0.1211 - accuracy: 0.9517 - val_loss: 0.5419 - val_accuracy: 0.6875\n",
      "Epoch 21/25\n",
      "163/163 [==============================] - 97s 592ms/step - loss: 0.1099 - accuracy: 0.9584 - val_loss: 0.6678 - val_accuracy: 0.6250\n",
      "Epoch 22/25\n",
      "163/163 [==============================] - 96s 589ms/step - loss: 0.1030 - accuracy: 0.9618 - val_loss: 0.4842 - val_accuracy: 0.7500\n",
      "Epoch 23/25\n",
      "163/163 [==============================] - 95s 581ms/step - loss: 0.1044 - accuracy: 0.9603 - val_loss: 0.2974 - val_accuracy: 0.8750\n",
      "Epoch 24/25\n",
      "163/163 [==============================] - 94s 577ms/step - loss: 0.1040 - accuracy: 0.9605 - val_loss: 0.5060 - val_accuracy: 0.7500\n",
      "Epoch 25/25\n",
      "163/163 [==============================] - 95s 582ms/step - loss: 0.0965 - accuracy: 0.9638 - val_loss: 0.4386 - val_accuracy: 0.8750\n"
     ]
    },
    {
     "data": {
      "text/plain": [
       "<tensorflow.python.keras.callbacks.History at 0x7fc23f567780>"
      ]
     },
     "execution_count": 27,
     "metadata": {},
     "output_type": "execute_result"
    }
   ],
   "source": [
    "cnn.fit(x=training_set,validation_data=validation_set,epochs=25)"
   ]
  },
  {
   "cell_type": "code",
   "execution_count": 28,
   "metadata": {},
   "outputs": [
    {
     "data": {
      "text/plain": [
       "{'NORMAL': 0, 'PNEUMONIA': 1}"
      ]
     },
     "execution_count": 28,
     "metadata": {},
     "output_type": "execute_result"
    }
   ],
   "source": [
    "training_set.class_indices"
   ]
  },
  {
   "cell_type": "code",
   "execution_count": 40,
   "metadata": {},
   "outputs": [
    {
     "data": {
      "text/plain": [
       "'PNEUMONIA'"
      ]
     },
     "execution_count": 40,
     "metadata": {},
     "output_type": "execute_result"
    }
   ],
   "source": [
    "import numpy as np\n",
    "from keras.preprocessing import image\n",
    "\n",
    "test_image = image.load_img('dataset/test/PNEUMONIA/person11_virus_38.jpeg',target_size=(64,64))\n",
    "test_image = image.img_to_array(test_image)\n",
    "test_image = np.expand_dims(test_image,axis=0)\n",
    "result = cnn.predict(test_image)\n",
    "if result[0][0] ==1:\n",
    "    prediction = 'PNEUMONIA'\n",
    "else:\n",
    "    prediction = 'NORMAL'\n",
    "prediction"
   ]
  },
  {
   "cell_type": "markdown",
   "metadata": {},
   "source": [
    "<h3>Over-Fitting</h3>\n",
    "<p>\n",
    "    <ol>\n",
    "        <li><a href=\"https://machinelearningmastery.com/introduction-to-regularization-to-reduce-overfitting-and-improve-generalization-error/\">General Idea Overfitting</a></li>\n",
    "        <li><a href=\"https://androidkt.com/k-fold-cross-validation-with-tensorflow-keras/\">How to work Overfitting.</a></li>\n",
    "    </ol>\n",
    "</p>"
   ]
  },
  {
   "cell_type": "code",
   "execution_count": 6,
   "metadata": {
    "scrolled": true
   },
   "outputs": [
    {
     "name": "stdout",
     "output_type": "stream",
     "text": [
      "Epoch 1/25\n",
      "163/163 [==============================] - 117s 720ms/step - loss: 1.8951 - accuracy: 0.7822 - val_loss: 0.5782 - val_accuracy: 0.8750\n",
      "Epoch 2/25\n",
      "163/163 [==============================] - 103s 630ms/step - loss: 0.4182 - accuracy: 0.8556 - val_loss: 0.5778 - val_accuracy: 0.7500\n",
      "Epoch 3/25\n",
      "163/163 [==============================] - 100s 613ms/step - loss: 0.3717 - accuracy: 0.8717 - val_loss: 1.2569 - val_accuracy: 0.5625\n",
      "Epoch 4/25\n",
      "163/163 [==============================] - 98s 600ms/step - loss: 0.3867 - accuracy: 0.8712 - val_loss: 0.9935 - val_accuracy: 0.6250\n",
      "Epoch 5/25\n",
      "163/163 [==============================] - 97s 598ms/step - loss: 0.3439 - accuracy: 0.8840 - val_loss: 0.7160 - val_accuracy: 0.8125\n",
      "Epoch 6/25\n",
      "163/163 [==============================] - 99s 609ms/step - loss: 0.3180 - accuracy: 0.8957 - val_loss: 0.5930 - val_accuracy: 0.8125\n",
      "Epoch 7/25\n",
      "163/163 [==============================] - 96s 591ms/step - loss: 0.3060 - accuracy: 0.8974 - val_loss: 0.8003 - val_accuracy: 0.6250\n",
      "Epoch 8/25\n",
      "163/163 [==============================] - 103s 634ms/step - loss: 0.3037 - accuracy: 0.8988 - val_loss: 0.6631 - val_accuracy: 0.8125\n",
      "Epoch 9/25\n",
      "163/163 [==============================] - 104s 637ms/step - loss: 0.3287 - accuracy: 0.8898 - val_loss: 0.6292 - val_accuracy: 0.7500\n",
      "Epoch 10/25\n",
      "163/163 [==============================] - 96s 587ms/step - loss: 0.2930 - accuracy: 0.9041 - val_loss: 0.8487 - val_accuracy: 0.6250\n",
      "Epoch 11/25\n",
      "163/163 [==============================] - 104s 636ms/step - loss: 0.2883 - accuracy: 0.9062 - val_loss: 0.5759 - val_accuracy: 0.7500\n",
      "Epoch 12/25\n",
      "163/163 [==============================] - 110s 675ms/step - loss: 0.3783 - accuracy: 0.8792 - val_loss: 0.9269 - val_accuracy: 0.5625\n",
      "Epoch 13/25\n",
      "163/163 [==============================] - 103s 631ms/step - loss: 0.3548 - accuracy: 0.8880 - val_loss: 0.4918 - val_accuracy: 0.7500\n",
      "Epoch 14/25\n",
      "163/163 [==============================] - 96s 591ms/step - loss: 0.3222 - accuracy: 0.8949 - val_loss: 0.5486 - val_accuracy: 0.7500\n",
      "Epoch 15/25\n",
      "163/163 [==============================] - 105s 641ms/step - loss: 0.3130 - accuracy: 0.9032 - val_loss: 0.4187 - val_accuracy: 0.8125\n",
      "Epoch 16/25\n",
      "163/163 [==============================] - 98s 601ms/step - loss: 0.3057 - accuracy: 0.9039 - val_loss: 0.5659 - val_accuracy: 0.8125\n",
      "Epoch 17/25\n",
      "163/163 [==============================] - 96s 586ms/step - loss: 0.2823 - accuracy: 0.9122 - val_loss: 0.5379 - val_accuracy: 0.8125\n",
      "Epoch 18/25\n",
      "163/163 [==============================] - 98s 604ms/step - loss: 0.2790 - accuracy: 0.9116 - val_loss: 0.8512 - val_accuracy: 0.6250\n",
      "Epoch 19/25\n",
      "163/163 [==============================] - 106s 651ms/step - loss: 0.2922 - accuracy: 0.9072 - val_loss: 0.7042 - val_accuracy: 0.7500\n",
      "Epoch 20/25\n",
      "163/163 [==============================] - 120s 733ms/step - loss: 0.2982 - accuracy: 0.9049 - val_loss: 0.8142 - val_accuracy: 0.6250\n",
      "Epoch 21/25\n",
      "163/163 [==============================] - 121s 744ms/step - loss: 0.2728 - accuracy: 0.9176 - val_loss: 0.6904 - val_accuracy: 0.6250\n",
      "Epoch 22/25\n",
      "163/163 [==============================] - 116s 710ms/step - loss: 0.2819 - accuracy: 0.9149 - val_loss: 0.4971 - val_accuracy: 0.7500\n",
      "Epoch 23/25\n",
      "163/163 [==============================] - 115s 702ms/step - loss: 0.2866 - accuracy: 0.9110 - val_loss: 0.5487 - val_accuracy: 0.6875\n",
      "Epoch 24/25\n",
      "163/163 [==============================] - 132s 812ms/step - loss: 0.2677 - accuracy: 0.9195 - val_loss: 0.6420 - val_accuracy: 0.6875\n",
      "Epoch 25/25\n",
      "163/163 [==============================] - 124s 763ms/step - loss: 0.2510 - accuracy: 0.9235 - val_loss: 0.4807 - val_accuracy: 0.8125\n"
     ]
    },
    {
     "data": {
      "text/plain": [
       "<tensorflow.python.keras.callbacks.History at 0x7fbc553193c8>"
      ]
     },
     "execution_count": 6,
     "metadata": {},
     "output_type": "execute_result"
    }
   ],
   "source": [
    "cnn2 = tf.keras.models.Sequential()\n",
    "cnn2.add(tf.keras.layers.Conv2D(filters=32,kernel_size=3,activation='relu',\n",
    "                              input_shape=[64,64,3]))\n",
    "cnn2.add(tf.keras.layers.MaxPool2D(pool_size=2,strides=2))\n",
    "cnn2.add(tf.keras.layers.Conv2D(filters=32,\n",
    "                              kernel_size=3,activation='relu'))\n",
    "cnn2.add(tf.keras.layers.MaxPool2D(pool_size=2,strides=2))\n",
    "cnn2.add(tf.keras.layers.Flatten())\n",
    "cnn2.add(tf.keras.layers.Dense(units=128,activation='relu',kernel_regularizer=tf.keras.regularizers.l2(l=0.1)))\n",
    "cnn2.add(tf.keras.layers.Dense(units=1,activation='sigmoid'))\n",
    "cnn2.compile(optimizer='adam',loss='binary_crossentropy',metrics=['accuracy'])\n",
    "cnn2.fit(x=training_set,validation_data=validation_set,epochs=25)"
   ]
  },
  {
   "cell_type": "code",
   "execution_count": 11,
   "metadata": {},
   "outputs": [],
   "source": [
    "cnn3 = tf.keras.models.Sequential([\n",
    "    tf.keras.layers.Conv2D(filters=32,kernel_size=3,activation='relu',input_shape=[64,64,3]),\n",
    "    tf.keras.layers.MaxPool2D(pool_size=2,strides=2),\n",
    "    tf.keras.layers.Conv2D(filters=32,kernel_size=3,activation='relu',input_shape=[64,64,3]),\n",
    "    tf.keras.layers.MaxPool2D(pool_size=2,strides=2),\n",
    "    tf.keras.layers.Flatten(),\n",
    "    tf.keras.layers.Dense(units=128,activation='relu',kernel_regularizer=tf.keras.regularizers.l2(l=0.1)),\n",
    "    tf.keras.layers.Dense(units=128,activation='relu',kernel_regularizer=tf.keras.regularizers.l2(l=0.1)),\n",
    "    tf.keras.layers.Dense(units=1,activation='sigmoid')\n",
    "])\n",
    "\n",
    "cnn3.compile(optimizer='adam', loss='binary_crossentropy', metrics=['accuracy'])"
   ]
  },
  {
   "cell_type": "code",
   "execution_count": 12,
   "metadata": {},
   "outputs": [
    {
     "name": "stdout",
     "output_type": "stream",
     "text": [
      "Epoch 1/25\n",
      "163/163 [==============================] - 99s 608ms/step - loss: 5.4394 - accuracy: 0.7699 - val_loss: 0.8931 - val_accuracy: 0.6875\n",
      "Epoch 2/25\n",
      "163/163 [==============================] - 97s 597ms/step - loss: 0.4613 - accuracy: 0.8604 - val_loss: 0.5353 - val_accuracy: 0.8750\n",
      "Epoch 3/25\n",
      "163/163 [==============================] - 97s 595ms/step - loss: 0.3799 - accuracy: 0.8710 - val_loss: 0.6100 - val_accuracy: 0.8125\n",
      "Epoch 4/25\n",
      "163/163 [==============================] - 97s 595ms/step - loss: 0.3568 - accuracy: 0.8825 - val_loss: 0.6858 - val_accuracy: 0.6875\n",
      "Epoch 5/25\n",
      "163/163 [==============================] - 100s 613ms/step - loss: 0.3387 - accuracy: 0.8877 - val_loss: 0.5249 - val_accuracy: 0.8750\n",
      "Epoch 6/25\n",
      "163/163 [==============================] - 96s 591ms/step - loss: 0.3151 - accuracy: 0.9007 - val_loss: 0.7559 - val_accuracy: 0.6250\n",
      "Epoch 7/25\n",
      "163/163 [==============================] - 96s 590ms/step - loss: 0.2875 - accuracy: 0.9095 - val_loss: 0.8541 - val_accuracy: 0.5625\n",
      "Epoch 8/25\n",
      "163/163 [==============================] - 96s 592ms/step - loss: 0.2880 - accuracy: 0.9064 - val_loss: 0.4996 - val_accuracy: 0.8125\n",
      "Epoch 9/25\n",
      "163/163 [==============================] - 96s 591ms/step - loss: 0.2915 - accuracy: 0.9072 - val_loss: 0.4574 - val_accuracy: 0.8125\n",
      "Epoch 10/25\n",
      "163/163 [==============================] - 96s 590ms/step - loss: 0.2833 - accuracy: 0.9130 - val_loss: 0.6003 - val_accuracy: 0.7500\n",
      "Epoch 11/25\n",
      "163/163 [==============================] - 99s 607ms/step - loss: 0.2926 - accuracy: 0.9059 - val_loss: 0.5106 - val_accuracy: 0.7500\n",
      "Epoch 12/25\n",
      "163/163 [==============================] - 97s 596ms/step - loss: 0.2681 - accuracy: 0.9174 - val_loss: 0.4658 - val_accuracy: 0.8750\n",
      "Epoch 13/25\n",
      "163/163 [==============================] - 98s 604ms/step - loss: 0.2660 - accuracy: 0.9133 - val_loss: 0.6033 - val_accuracy: 0.7500\n",
      "Epoch 14/25\n",
      "163/163 [==============================] - 101s 622ms/step - loss: 0.2500 - accuracy: 0.9212 - val_loss: 0.5068 - val_accuracy: 0.8125\n",
      "Epoch 15/25\n",
      "163/163 [==============================] - 102s 627ms/step - loss: 0.2488 - accuracy: 0.9252 - val_loss: 0.5803 - val_accuracy: 0.8125\n",
      "Epoch 16/25\n",
      "163/163 [==============================] - 102s 625ms/step - loss: 0.2450 - accuracy: 0.9233 - val_loss: 1.4969 - val_accuracy: 0.5625\n",
      "Epoch 17/25\n",
      "163/163 [==============================] - 99s 610ms/step - loss: 0.2574 - accuracy: 0.9172 - val_loss: 0.4922 - val_accuracy: 0.7500\n",
      "Epoch 18/25\n",
      "163/163 [==============================] - 101s 620ms/step - loss: 0.2403 - accuracy: 0.9323 - val_loss: 0.6765 - val_accuracy: 0.6875\n",
      "Epoch 19/25\n",
      "163/163 [==============================] - 105s 641ms/step - loss: 0.2386 - accuracy: 0.9231 - val_loss: 0.8937 - val_accuracy: 0.6250\n",
      "Epoch 20/25\n",
      "163/163 [==============================] - 103s 635ms/step - loss: 0.2501 - accuracy: 0.9220 - val_loss: 0.4857 - val_accuracy: 0.7500\n",
      "Epoch 21/25\n",
      "163/163 [==============================] - 103s 632ms/step - loss: 0.2159 - accuracy: 0.9362 - val_loss: 0.4884 - val_accuracy: 0.6875\n",
      "Epoch 22/25\n",
      "163/163 [==============================] - 102s 626ms/step - loss: 0.2274 - accuracy: 0.9304 - val_loss: 0.5533 - val_accuracy: 0.8125\n",
      "Epoch 23/25\n",
      "163/163 [==============================] - 112s 688ms/step - loss: 0.2324 - accuracy: 0.9294 - val_loss: 0.5198 - val_accuracy: 0.7500\n",
      "Epoch 24/25\n",
      "163/163 [==============================] - 103s 635ms/step - loss: 0.2411 - accuracy: 0.9266 - val_loss: 0.3860 - val_accuracy: 0.8750\n",
      "Epoch 25/25\n",
      "163/163 [==============================] - 115s 702ms/step - loss: 0.2199 - accuracy: 0.9335 - val_loss: 0.4738 - val_accuracy: 0.6875\n"
     ]
    },
    {
     "data": {
      "text/plain": [
       "<tensorflow.python.keras.callbacks.History at 0x7fbc28da3390>"
      ]
     },
     "execution_count": 12,
     "metadata": {},
     "output_type": "execute_result"
    }
   ],
   "source": [
    "cnn3.fit(x=training_set,validation_data=validation_set,epochs=25)"
   ]
  },
  {
   "cell_type": "markdown",
   "metadata": {},
   "source": [
    "<h3>Finding Correct Hyper-parameters</h3>\n",
    "<p>\n",
    "    - Grid Search<br>\n",
    "    - Cross Validation\n",
    "</p>"
   ]
  },
  {
   "cell_type": "markdown",
   "metadata": {},
   "source": [
    "<h3>Training Correct Neural Networks without Over-Fitting</h3>\n",
    "<p>\n",
    "    <b>Regression Loss/Cost/Error</b>\n",
    "       <ol>\n",
    "           <li>Sum Of Squared Error</li>\n",
    "        </ol>\n",
    "        <b>Classification Loss/Cost/Error</b>\n",
    "       <ol>\n",
    "           <li>Cross Entropy</li>\n",
    "        </ol>\n",
    "         <b>BackPropagation</b>\n",
    "       <ol>\n",
    "           <li>Using Chain Rule of gradient descent algorithm</li>\n",
    "        </ol>\n",
    "        <b>Regularization</b>\n",
    "       <ol>\n",
    "           <li>Dropout regularization</li>\n",
    "            <li>Early Stopping</li>\n",
    "        </ol>\n",
    "        \n",
    "</p>"
   ]
  },
  {
   "cell_type": "code",
   "execution_count": null,
   "metadata": {},
   "outputs": [],
   "source": []
  }
 ],
 "metadata": {
  "kernelspec": {
   "display_name": "Python 3",
   "language": "python",
   "name": "python3"
  },
  "language_info": {
   "codemirror_mode": {
    "name": "ipython",
    "version": 3
   },
   "file_extension": ".py",
   "mimetype": "text/x-python",
   "name": "python",
   "nbconvert_exporter": "python",
   "pygments_lexer": "ipython3",
   "version": "3.6.6"
  }
 },
 "nbformat": 4,
 "nbformat_minor": 2
}
